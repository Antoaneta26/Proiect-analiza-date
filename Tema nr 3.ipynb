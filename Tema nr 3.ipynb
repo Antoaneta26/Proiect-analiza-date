{
 "cells": [
  {
   "cell_type": "code",
   "execution_count": 1,
   "id": "2d39a3ad-6986-4ddc-a2f9-238caf8a35e0",
   "metadata": {},
   "outputs": [],
   "source": [
    "import pandas as pd\n",
    "import seaborn as sns\n",
    "app = pd.read_csv(r\"C:\\Users\\My PC\\Downloads\\applications.csv\")\n",
    "ind = pd.read_csv(r\"C:\\Users\\My PC\\Downloads\\industries.csv\")"
   ]
  },
  {
   "cell_type": "code",
   "execution_count": 2,
   "id": "62e2a8bf-9136-43e4-819a-405fa72d23de",
   "metadata": {},
   "outputs": [
    {
     "name": "stdout",
     "output_type": "stream",
     "text": [
      "            Applied at   Amount  Age  Gender                      Industry  \\\n",
      "0  11.30.2022 10:26:37  12000.0   29    Male                    Blockchain   \n",
      "1  11.30.2022 10:26:39      NaN   36    Male  Public services / Government   \n",
      "2  11.30.2022 10:26:58   7500.0   34    Male          Adtech / Advertising   \n",
      "3  11.30.2022 10:27:31   1500.0   23  Female                       Telecom   \n",
      "4  11.30.2022 10:27:34   8400.0   33  Female                    Automotive   \n",
      "\n",
      "  Marital status  External Rating  \\\n",
      "0          Other              8.0   \n",
      "1         Single              3.0   \n",
      "2         Single              4.0   \n",
      "3         Single              0.0   \n",
      "4         Single              6.0   \n",
      "\n",
      "                                     Education level         Location  \\\n",
      "0  Higher Degree (bachelor's, specialist's, maste...    Spain, Madrid   \n",
      "1  Higher Degree (bachelor's, specialist's, maste...              NaN   \n",
      "2  Higher Degree (bachelor's, specialist's, maste...   Poland, Warsaw   \n",
      "3  Higher Degree (bachelor's, specialist's, maste...  Germany, Berlin   \n",
      "4  Higher Degree (bachelor's, specialist's, maste...  Bulgaria, Sofia   \n",
      "\n",
      "                       applicant_id  \n",
      "0  99e7b0dc6cc05dd334d8f38dc26ce9b3  \n",
      "1  63dfcf8e6904186650d6814279fbe42f  \n",
      "2  10dbafaeb46c09e96b6987c03bbb3498  \n",
      "3  5847ac62cc9eac5e323c2517dcc91ad1  \n",
      "4  5d21f3795b50de8e8f8f8d5f48b754f3  \n",
      "                       Industry  Score\n",
      "0                    Blockchain      0\n",
      "1  Public services / Government     20\n",
      "2          Adtech / Advertising     10\n",
      "3                       Telecom     15\n",
      "4                    Automotive     15\n"
     ]
    }
   ],
   "source": [
    "#Primele 5 valori\n",
    "print(app.head())\n",
    "print(ind.head())"
   ]
  },
  {
   "cell_type": "code",
   "execution_count": 7,
   "id": "0695f451-a11a-4a30-87ca-40240358983a",
   "metadata": {},
   "outputs": [],
   "source": [
    "# Elimină duplicatele din coloana applicant_id\n",
    "app = app.drop_duplicates(subset='applicant_id')"
   ]
  },
  {
   "cell_type": "code",
   "execution_count": 8,
   "id": "352ae941-b09d-41cb-8306-0050a941adba",
   "metadata": {},
   "outputs": [],
   "source": [
    "# În câmpul External Rating, completează valorile lipsă cu zero\n",
    "app['External Rating'] = app['External Rating'].fillna(0)"
   ]
  },
  {
   "cell_type": "code",
   "execution_count": 9,
   "id": "786a6fdb-eb8a-49ad-a8e8-1368c4d445ea",
   "metadata": {},
   "outputs": [],
   "source": [
    "# În câmpul Education level, completează valorile lipsă cu textul \"Average\"\n",
    "app['Education level'] = app['Education level'].fillna('Average')"
   ]
  },
  {
   "cell_type": "code",
   "execution_count": 11,
   "id": "4e105ca0-7fa3-4245-b2f7-b1428e256dd5",
   "metadata": {},
   "outputs": [
    {
     "name": "stdout",
     "output_type": "stream",
     "text": [
      "                       Industry  Industry Score\n",
      "0                    Blockchain               0\n",
      "1  Public services / Government              20\n",
      "2          Adtech / Advertising              10\n",
      "3                       Telecom              15\n",
      "4                    Automotive              15\n",
      "            Applied at   Amount  Age  Gender                      Industry  \\\n",
      "0  11.30.2022 10:26:37  12000.0   29    Male                    Blockchain   \n",
      "1  11.30.2022 10:26:39      NaN   36    Male  Public services / Government   \n",
      "2  11.30.2022 10:26:58   7500.0   34    Male          Adtech / Advertising   \n",
      "3  11.30.2022 10:27:31   1500.0   23  Female                       Telecom   \n",
      "4  11.30.2022 10:27:34   8400.0   33  Female                    Automotive   \n",
      "\n",
      "  Marital status  External Rating  \\\n",
      "0          Other              8.0   \n",
      "1         Single              3.0   \n",
      "2         Single              4.0   \n",
      "3         Single              0.0   \n",
      "4         Single              6.0   \n",
      "\n",
      "                                     Education level         Location  \\\n",
      "0  Higher Degree (bachelor's, specialist's, maste...    Spain, Madrid   \n",
      "1  Higher Degree (bachelor's, specialist's, maste...              NaN   \n",
      "2  Higher Degree (bachelor's, specialist's, maste...   Poland, Warsaw   \n",
      "3  Higher Degree (bachelor's, specialist's, maste...  Germany, Berlin   \n",
      "4  Higher Degree (bachelor's, specialist's, maste...  Bulgaria, Sofia   \n",
      "\n",
      "                       applicant_id  Industry Score  \n",
      "0  99e7b0dc6cc05dd334d8f38dc26ce9b3               0  \n",
      "1  63dfcf8e6904186650d6814279fbe42f              20  \n",
      "2  10dbafaeb46c09e96b6987c03bbb3498              10  \n",
      "3  5847ac62cc9eac5e323c2517dcc91ad1              15  \n",
      "4  5d21f3795b50de8e8f8f8d5f48b754f3              15  \n"
     ]
    }
   ],
   "source": [
    "# Adaugă datele din fișierul industries.csv în acest DataFrame, respectiv, evaluările industriilor\n",
    "ind=ind.rename(columns={'Score':'Industry Score'})\n",
    "print(ind.head())\n",
    "df=pd.merge(app,ind)\n",
    "print(df.head())"
   ]
  },
  {
   "cell_type": "code",
   "execution_count": null,
   "id": "f0122821-22ab-4911-a393-1c3ebf3bb49f",
   "metadata": {},
   "outputs": [],
   "source": [
    "# Calculează evaluarea cererii conform următoarelor condiții:\n",
    "#Evaluarea trebuie să fie un număr între 0 și 100;\n",
    "#Evaluarea este suma scorurilor pentru cele 6 criterii;\n",
    "#Evaluarea este zero dacă nu există valoarea Amount sau dacă External Rating este zero.\n",
    "#Dacă vârsta aplicantului este între 35 și 55 de ani, se adaugă 20 de puncte la evaluare.\n",
    "#Dacă aplicația a fost depusă în weekend, se adaugă 20 de puncte la evaluare.\n",
    "#Dacă aplicantul este căsătorit, se adaugă 20 de puncte la evaluare.\n",
    "#Dacă aplicantul este localizat în Kyiv sau în regiune, se adaugă 10 puncte la evaluare.\n",
    "#Valoarea Score din tabelul industries.csv este de asemenea adăugată la cerere (și variază între 0 și 20 de puncte).\n",
    "#Dacă External Rating este mai mare sau egal cu 7, se adaugă 20 de puncte la evaluare.\n",
    "#Dacă External Rating este mai mic sau egal cu 2, se scad 20 de puncte din evaluare.\n"
   ]
  },
  {
   "cell_type": "code",
   "execution_count": 12,
   "id": "fa473376-b77f-475d-a4ae-8a4d6ca9fa0d",
   "metadata": {},
   "outputs": [],
   "source": [
    "#Varsta\n",
    "df['Age']=df['Age'].astype(int)"
   ]
  },
  {
   "cell_type": "code",
   "execution_count": 14,
   "id": "23de8e8a-0611-4932-8ba8-8a664a416d05",
   "metadata": {},
   "outputs": [],
   "source": [
    "# Data aplicarii\n",
    "df['Applied at']=pd.to_datetime(df['Applied at'],format='mixed')\n",
    "df['Applied on day']=df['Applied at'].dt.day_name()"
   ]
  },
  {
   "cell_type": "code",
   "execution_count": 21,
   "id": "3fd041b0-ff1b-4ab9-93cf-db92e0812940",
   "metadata": {},
   "outputs": [
    {
     "data": {
      "text/html": [
       "<div>\n",
       "<style scoped>\n",
       "    .dataframe tbody tr th:only-of-type {\n",
       "        vertical-align: middle;\n",
       "    }\n",
       "\n",
       "    .dataframe tbody tr th {\n",
       "        vertical-align: top;\n",
       "    }\n",
       "\n",
       "    .dataframe thead th {\n",
       "        text-align: right;\n",
       "    }\n",
       "</style>\n",
       "<table border=\"1\" class=\"dataframe\">\n",
       "  <thead>\n",
       "    <tr style=\"text-align: right;\">\n",
       "      <th></th>\n",
       "      <th>Applied at</th>\n",
       "      <th>Amount</th>\n",
       "      <th>Age</th>\n",
       "      <th>Gender</th>\n",
       "      <th>Industry</th>\n",
       "      <th>Marital status</th>\n",
       "      <th>External Rating</th>\n",
       "      <th>Education level</th>\n",
       "      <th>Location</th>\n",
       "      <th>applicant_id</th>\n",
       "      <th>Industry Score</th>\n",
       "      <th>Applied on day</th>\n",
       "      <th>Final score</th>\n",
       "    </tr>\n",
       "  </thead>\n",
       "  <tbody>\n",
       "    <tr>\n",
       "      <th>0</th>\n",
       "      <td>2022-11-30 10:26:37</td>\n",
       "      <td>12000.0</td>\n",
       "      <td>29</td>\n",
       "      <td>Male</td>\n",
       "      <td>Blockchain</td>\n",
       "      <td>Other</td>\n",
       "      <td>8.0</td>\n",
       "      <td>Higher Degree (bachelor's, specialist's, maste...</td>\n",
       "      <td>Spain, Madrid</td>\n",
       "      <td>99e7b0dc6cc05dd334d8f38dc26ce9b3</td>\n",
       "      <td>0</td>\n",
       "      <td>Wednesday</td>\n",
       "      <td>20</td>\n",
       "    </tr>\n",
       "    <tr>\n",
       "      <th>1</th>\n",
       "      <td>2022-11-30 10:26:39</td>\n",
       "      <td>NaN</td>\n",
       "      <td>36</td>\n",
       "      <td>Male</td>\n",
       "      <td>Public services / Government</td>\n",
       "      <td>Single</td>\n",
       "      <td>3.0</td>\n",
       "      <td>Higher Degree (bachelor's, specialist's, maste...</td>\n",
       "      <td>NaN</td>\n",
       "      <td>63dfcf8e6904186650d6814279fbe42f</td>\n",
       "      <td>20</td>\n",
       "      <td>Wednesday</td>\n",
       "      <td>0</td>\n",
       "    </tr>\n",
       "    <tr>\n",
       "      <th>2</th>\n",
       "      <td>2022-11-30 10:26:58</td>\n",
       "      <td>7500.0</td>\n",
       "      <td>34</td>\n",
       "      <td>Male</td>\n",
       "      <td>Adtech / Advertising</td>\n",
       "      <td>Single</td>\n",
       "      <td>4.0</td>\n",
       "      <td>Higher Degree (bachelor's, specialist's, maste...</td>\n",
       "      <td>Poland, Warsaw</td>\n",
       "      <td>10dbafaeb46c09e96b6987c03bbb3498</td>\n",
       "      <td>10</td>\n",
       "      <td>Wednesday</td>\n",
       "      <td>10</td>\n",
       "    </tr>\n",
       "    <tr>\n",
       "      <th>3</th>\n",
       "      <td>2022-11-30 10:27:31</td>\n",
       "      <td>1500.0</td>\n",
       "      <td>23</td>\n",
       "      <td>Female</td>\n",
       "      <td>Telecom</td>\n",
       "      <td>Single</td>\n",
       "      <td>0.0</td>\n",
       "      <td>Higher Degree (bachelor's, specialist's, maste...</td>\n",
       "      <td>Germany, Berlin</td>\n",
       "      <td>5847ac62cc9eac5e323c2517dcc91ad1</td>\n",
       "      <td>15</td>\n",
       "      <td>Wednesday</td>\n",
       "      <td>0</td>\n",
       "    </tr>\n",
       "    <tr>\n",
       "      <th>4</th>\n",
       "      <td>2022-11-30 10:27:34</td>\n",
       "      <td>8400.0</td>\n",
       "      <td>33</td>\n",
       "      <td>Female</td>\n",
       "      <td>Automotive</td>\n",
       "      <td>Single</td>\n",
       "      <td>6.0</td>\n",
       "      <td>Higher Degree (bachelor's, specialist's, maste...</td>\n",
       "      <td>Bulgaria, Sofia</td>\n",
       "      <td>5d21f3795b50de8e8f8f8d5f48b754f3</td>\n",
       "      <td>15</td>\n",
       "      <td>Wednesday</td>\n",
       "      <td>15</td>\n",
       "    </tr>\n",
       "  </tbody>\n",
       "</table>\n",
       "</div>"
      ],
      "text/plain": [
       "           Applied at   Amount  Age  Gender                      Industry  \\\n",
       "0 2022-11-30 10:26:37  12000.0   29    Male                    Blockchain   \n",
       "1 2022-11-30 10:26:39      NaN   36    Male  Public services / Government   \n",
       "2 2022-11-30 10:26:58   7500.0   34    Male          Adtech / Advertising   \n",
       "3 2022-11-30 10:27:31   1500.0   23  Female                       Telecom   \n",
       "4 2022-11-30 10:27:34   8400.0   33  Female                    Automotive   \n",
       "\n",
       "  Marital status  External Rating  \\\n",
       "0          Other              8.0   \n",
       "1         Single              3.0   \n",
       "2         Single              4.0   \n",
       "3         Single              0.0   \n",
       "4         Single              6.0   \n",
       "\n",
       "                                     Education level         Location  \\\n",
       "0  Higher Degree (bachelor's, specialist's, maste...    Spain, Madrid   \n",
       "1  Higher Degree (bachelor's, specialist's, maste...              NaN   \n",
       "2  Higher Degree (bachelor's, specialist's, maste...   Poland, Warsaw   \n",
       "3  Higher Degree (bachelor's, specialist's, maste...  Germany, Berlin   \n",
       "4  Higher Degree (bachelor's, specialist's, maste...  Bulgaria, Sofia   \n",
       "\n",
       "                       applicant_id  Industry Score Applied on day  \\\n",
       "0  99e7b0dc6cc05dd334d8f38dc26ce9b3               0      Wednesday   \n",
       "1  63dfcf8e6904186650d6814279fbe42f              20      Wednesday   \n",
       "2  10dbafaeb46c09e96b6987c03bbb3498              10      Wednesday   \n",
       "3  5847ac62cc9eac5e323c2517dcc91ad1              15      Wednesday   \n",
       "4  5d21f3795b50de8e8f8f8d5f48b754f3              15      Wednesday   \n",
       "\n",
       "   Final score  \n",
       "0           20  \n",
       "1            0  \n",
       "2           10  \n",
       "3            0  \n",
       "4           15  "
      ]
     },
     "execution_count": 21,
     "metadata": {},
     "output_type": "execute_result"
    }
   ],
   "source": [
    "# Evaluarea\n",
    "age = ((df['Age'] >=35)&(df['Age']<=55))* 20\n",
    "day = df['Applied on day'].isin(['Saturday','Sundey'])*10\n",
    "marital = (df['Marital status']=='Maried')*20\n",
    "location = (df['Location']=='Kyiv or region')*10\n",
    "industry = df['Industry Score']\n",
    "positive_rating = (df['External Rating']>=7)*20\n",
    "negative_rating = (df['External Rating']<=2)* -20\n",
    "df['Final score'] = day + age + marital + location + industry + positive_rating + negative_rating\n",
    "df['Final score'] = df['Final score']* - (df['External Rating']==0)* -df['Amount'].isna()\n",
    "df.head()\n"
   ]
  },
  {
   "cell_type": "code",
   "execution_count": 23,
   "id": "0bbf7a18-6088-458d-8bc9-eddc7ba46bd5",
   "metadata": {},
   "outputs": [
    {
     "name": "stdout",
     "output_type": "stream",
     "text": [
      "            Applied at   Amount  Age  Gender              Industry  \\\n",
      "0  2022-11-30 10:26:37  12000.0   29    Male            Blockchain   \n",
      "2  2022-11-30 10:26:58   7500.0   34    Male  Adtech / Advertising   \n",
      "4  2022-11-30 10:27:34   8400.0   33  Female            Automotive   \n",
      "5  2022-11-30 10:27:38  16500.0   31    Male            E-commerce   \n",
      "10 2022-11-30 10:28:03  18000.0   25    Male                Dating   \n",
      "\n",
      "   Marital status  External Rating  \\\n",
      "0           Other              8.0   \n",
      "2          Single              4.0   \n",
      "4          Single              6.0   \n",
      "5          Single              8.0   \n",
      "10         Single              5.0   \n",
      "\n",
      "                                      Education level         Location  \\\n",
      "0   Higher Degree (bachelor's, specialist's, maste...    Spain, Madrid   \n",
      "2   Higher Degree (bachelor's, specialist's, maste...   Poland, Warsaw   \n",
      "4   Higher Degree (bachelor's, specialist's, maste...  Bulgaria, Sofia   \n",
      "5   Higher Degree (bachelor's, specialist's, maste...    Spain, Madrid   \n",
      "10  Higher Degree (bachelor's, specialist's, maste...   Poland, Warsaw   \n",
      "\n",
      "                        applicant_id  Industry Score Applied on day  \\\n",
      "0   99e7b0dc6cc05dd334d8f38dc26ce9b3               0      Wednesday   \n",
      "2   10dbafaeb46c09e96b6987c03bbb3498              10      Wednesday   \n",
      "4   5d21f3795b50de8e8f8f8d5f48b754f3              15      Wednesday   \n",
      "5   f720bf9c5c4c3e10a8568c1699847696              15      Wednesday   \n",
      "10  f8138219d5a95649cc85bdabeb3732ca               5      Wednesday   \n",
      "\n",
      "    Final score  \n",
      "0            20  \n",
      "2            10  \n",
      "4            15  \n",
      "5            35  \n",
      "10            5  \n"
     ]
    }
   ],
   "source": [
    "# În tabelul rezultat, lasă doar cererile cu o evaluare mai mare decât zero, aceste cereri vor fi considerate acceptate.\n",
    "df = df[df['Final score']>0]\n",
    "print(df.head())"
   ]
  },
  {
   "cell_type": "code",
   "execution_count": 25,
   "id": "a95f11c3-e93d-4277-8334-204594ce2cdf",
   "metadata": {},
   "outputs": [
    {
     "name": "stdout",
     "output_type": "stream",
     "text": [
      "            Amount  Age  External Rating  Industry Score  Final score\n",
      "Applied at                                                           \n",
      "2022-11-27   11227   30                6              14           27\n",
      "2022-12-04   10624   30                6              13           24\n",
      "2022-12-11   10420   30                6              13           25\n",
      "2022-12-18    9786   30                6              13           26\n",
      "2022-12-25    9831   31                6              13           25\n",
      "Axes(0.125,0.11;0.775x0.77)\n"
     ]
    },
    {
     "data": {
      "image/png": "[encoded data removed]",
      "text/plain": [
       "<Figure size 640x480 with 1 Axes>"
      ]
     },
     "metadata": {},
     "output_type": "display_data"
    }
   ],
   "source": [
    "dfg = df.set_index('Applied at')\n",
    "# Grupează datele din tabelul rezultat în funcție de săptămâna depunerii cererii și afișează evaluarea medie a cererilor acceptate în fiecare săptămână pe grafic.\n",
    "dfg = dfg.resample('W', label='left').mean(numeric_only= True).astype(int)\n",
    "print(dfg.head())\n",
    "sns.set_theme()\n",
    "print(sns.lineplot(data=dfg,x='Applied at',y='Final score'))"
   ]
  },
  {
   "cell_type": "code",
   "execution_count": null,
   "id": "dc2414b5-3a24-4a9d-a00c-debfb4cf826d",
   "metadata": {},
   "outputs": [],
   "source": []
  }
 ],
 "metadata": {
  "kernelspec": {
   "display_name": "Python 3 (ipykernel)",
   "language": "python",
   "name": "python3"
  },
  "language_info": {
   "codemirror_mode": {
    "name": "ipython",
    "version": 3
   },
   "file_extension": ".py",
   "mimetype": "text/x-python",
   "name": "python",
   "nbconvert_exporter": "python",
   "pygments_lexer": "ipython3",
   "version": "3.12.7"
  }
 },
 "nbformat": 4,
 "nbformat_minor": 5
}
